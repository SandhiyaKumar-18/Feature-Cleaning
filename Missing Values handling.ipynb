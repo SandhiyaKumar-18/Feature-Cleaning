{
 "cells": [
  {
   "cell_type": "markdown",
   "id": "cc90fc0c",
   "metadata": {},
   "source": [
    "### 1.Importing the Dependencies"
   ]
  },
  {
   "cell_type": "code",
   "execution_count": 1,
   "id": "e179ba1a",
   "metadata": {},
   "outputs": [],
   "source": [
    "import pandas as pd\n",
    "import numpy as np\n",
    "import seaborn as sns\n",
    "import matplotlib.pyplot as plt\n",
    "import warnings\n",
    "warnings.filterwarnings('ignore')\n",
    "%matplotlib inline\n"
   ]
  },
  {
   "cell_type": "markdown",
   "id": "041d7272",
   "metadata": {},
   "source": [
    "### 2.Loading the datset"
   ]
  },
  {
   "cell_type": "code",
   "execution_count": 2,
   "id": "9224da06",
   "metadata": {},
   "outputs": [],
   "source": [
    "Air_Quality = pd.read_csv(\"data.csv\",encoding='cp1252',low_memory=False)"
   ]
  },
  {
   "cell_type": "code",
   "execution_count": 3,
   "id": "e6c690a5",
   "metadata": {},
   "outputs": [
    {
     "data": {
      "text/html": [
       "<div>\n",
       "<style scoped>\n",
       "    .dataframe tbody tr th:only-of-type {\n",
       "        vertical-align: middle;\n",
       "    }\n",
       "\n",
       "    .dataframe tbody tr th {\n",
       "        vertical-align: top;\n",
       "    }\n",
       "\n",
       "    .dataframe thead th {\n",
       "        text-align: right;\n",
       "    }\n",
       "</style>\n",
       "<table border=\"1\" class=\"dataframe\">\n",
       "  <thead>\n",
       "    <tr style=\"text-align: right;\">\n",
       "      <th></th>\n",
       "      <th>stn_code</th>\n",
       "      <th>sampling_date</th>\n",
       "      <th>state</th>\n",
       "      <th>location</th>\n",
       "      <th>agency</th>\n",
       "      <th>type</th>\n",
       "      <th>so2</th>\n",
       "      <th>no2</th>\n",
       "      <th>rspm</th>\n",
       "      <th>spm</th>\n",
       "      <th>location_monitoring_station</th>\n",
       "      <th>pm2_5</th>\n",
       "      <th>date</th>\n",
       "    </tr>\n",
       "  </thead>\n",
       "  <tbody>\n",
       "    <tr>\n",
       "      <th>0</th>\n",
       "      <td>150</td>\n",
       "      <td>February - M021990</td>\n",
       "      <td>Andhra Pradesh</td>\n",
       "      <td>Hyderabad</td>\n",
       "      <td>NaN</td>\n",
       "      <td>Residential, Rural and other Areas</td>\n",
       "      <td>4.8</td>\n",
       "      <td>17.4</td>\n",
       "      <td>NaN</td>\n",
       "      <td>NaN</td>\n",
       "      <td>NaN</td>\n",
       "      <td>NaN</td>\n",
       "      <td>1990-02-01</td>\n",
       "    </tr>\n",
       "    <tr>\n",
       "      <th>1</th>\n",
       "      <td>151</td>\n",
       "      <td>February - M021990</td>\n",
       "      <td>Andhra Pradesh</td>\n",
       "      <td>Hyderabad</td>\n",
       "      <td>NaN</td>\n",
       "      <td>Industrial Area</td>\n",
       "      <td>3.1</td>\n",
       "      <td>7.0</td>\n",
       "      <td>NaN</td>\n",
       "      <td>NaN</td>\n",
       "      <td>NaN</td>\n",
       "      <td>NaN</td>\n",
       "      <td>1990-02-01</td>\n",
       "    </tr>\n",
       "    <tr>\n",
       "      <th>2</th>\n",
       "      <td>152</td>\n",
       "      <td>February - M021990</td>\n",
       "      <td>Andhra Pradesh</td>\n",
       "      <td>Hyderabad</td>\n",
       "      <td>NaN</td>\n",
       "      <td>Residential, Rural and other Areas</td>\n",
       "      <td>6.2</td>\n",
       "      <td>28.5</td>\n",
       "      <td>NaN</td>\n",
       "      <td>NaN</td>\n",
       "      <td>NaN</td>\n",
       "      <td>NaN</td>\n",
       "      <td>1990-02-01</td>\n",
       "    </tr>\n",
       "    <tr>\n",
       "      <th>3</th>\n",
       "      <td>150</td>\n",
       "      <td>March - M031990</td>\n",
       "      <td>Andhra Pradesh</td>\n",
       "      <td>Hyderabad</td>\n",
       "      <td>NaN</td>\n",
       "      <td>Residential, Rural and other Areas</td>\n",
       "      <td>6.3</td>\n",
       "      <td>14.7</td>\n",
       "      <td>NaN</td>\n",
       "      <td>NaN</td>\n",
       "      <td>NaN</td>\n",
       "      <td>NaN</td>\n",
       "      <td>1990-03-01</td>\n",
       "    </tr>\n",
       "    <tr>\n",
       "      <th>4</th>\n",
       "      <td>151</td>\n",
       "      <td>March - M031990</td>\n",
       "      <td>Andhra Pradesh</td>\n",
       "      <td>Hyderabad</td>\n",
       "      <td>NaN</td>\n",
       "      <td>Industrial Area</td>\n",
       "      <td>4.7</td>\n",
       "      <td>7.5</td>\n",
       "      <td>NaN</td>\n",
       "      <td>NaN</td>\n",
       "      <td>NaN</td>\n",
       "      <td>NaN</td>\n",
       "      <td>1990-03-01</td>\n",
       "    </tr>\n",
       "  </tbody>\n",
       "</table>\n",
       "</div>"
      ],
      "text/plain": [
       "  stn_code       sampling_date           state   location agency  \\\n",
       "0      150  February - M021990  Andhra Pradesh  Hyderabad    NaN   \n",
       "1      151  February - M021990  Andhra Pradesh  Hyderabad    NaN   \n",
       "2      152  February - M021990  Andhra Pradesh  Hyderabad    NaN   \n",
       "3      150     March - M031990  Andhra Pradesh  Hyderabad    NaN   \n",
       "4      151     March - M031990  Andhra Pradesh  Hyderabad    NaN   \n",
       "\n",
       "                                 type  so2   no2  rspm  spm  \\\n",
       "0  Residential, Rural and other Areas  4.8  17.4   NaN  NaN   \n",
       "1                     Industrial Area  3.1   7.0   NaN  NaN   \n",
       "2  Residential, Rural and other Areas  6.2  28.5   NaN  NaN   \n",
       "3  Residential, Rural and other Areas  6.3  14.7   NaN  NaN   \n",
       "4                     Industrial Area  4.7   7.5   NaN  NaN   \n",
       "\n",
       "  location_monitoring_station  pm2_5        date  \n",
       "0                         NaN    NaN  1990-02-01  \n",
       "1                         NaN    NaN  1990-02-01  \n",
       "2                         NaN    NaN  1990-02-01  \n",
       "3                         NaN    NaN  1990-03-01  \n",
       "4                         NaN    NaN  1990-03-01  "
      ]
     },
     "execution_count": 3,
     "metadata": {},
     "output_type": "execute_result"
    }
   ],
   "source": [
    "Air_Quality.head()"
   ]
  },
  {
   "cell_type": "code",
   "execution_count": 4,
   "id": "cd6493b5",
   "metadata": {},
   "outputs": [
    {
     "data": {
      "text/plain": [
       "(435742, 13)"
      ]
     },
     "execution_count": 4,
     "metadata": {},
     "output_type": "execute_result"
    }
   ],
   "source": [
    "Air_Quality.shape"
   ]
  },
  {
   "cell_type": "code",
   "execution_count": 5,
   "id": "896cdddf",
   "metadata": {},
   "outputs": [
    {
     "data": {
      "text/plain": [
       "stn_code                       144077\n",
       "sampling_date                       3\n",
       "state                               0\n",
       "location                            3\n",
       "agency                         149481\n",
       "type                             5393\n",
       "so2                             34646\n",
       "no2                             16233\n",
       "rspm                            40222\n",
       "spm                            237387\n",
       "location_monitoring_station     27491\n",
       "pm2_5                          426428\n",
       "date                                7\n",
       "dtype: int64"
      ]
     },
     "execution_count": 5,
     "metadata": {},
     "output_type": "execute_result"
    }
   ],
   "source": [
    "Air_Quality.isnull().sum()"
   ]
  },
  {
   "cell_type": "code",
   "execution_count": 6,
   "id": "59588a1e",
   "metadata": {},
   "outputs": [
    {
     "data": {
      "text/html": [
       "<div>\n",
       "<style scoped>\n",
       "    .dataframe tbody tr th:only-of-type {\n",
       "        vertical-align: middle;\n",
       "    }\n",
       "\n",
       "    .dataframe tbody tr th {\n",
       "        vertical-align: top;\n",
       "    }\n",
       "\n",
       "    .dataframe thead th {\n",
       "        text-align: right;\n",
       "    }\n",
       "</style>\n",
       "<table border=\"1\" class=\"dataframe\">\n",
       "  <thead>\n",
       "    <tr style=\"text-align: right;\">\n",
       "      <th></th>\n",
       "      <th>Missing_Ratio</th>\n",
       "    </tr>\n",
       "  </thead>\n",
       "  <tbody>\n",
       "    <tr>\n",
       "      <th>pm2_5</th>\n",
       "      <td>97.86</td>\n",
       "    </tr>\n",
       "    <tr>\n",
       "      <th>spm</th>\n",
       "      <td>54.48</td>\n",
       "    </tr>\n",
       "    <tr>\n",
       "      <th>agency</th>\n",
       "      <td>34.30</td>\n",
       "    </tr>\n",
       "    <tr>\n",
       "      <th>stn_code</th>\n",
       "      <td>33.06</td>\n",
       "    </tr>\n",
       "    <tr>\n",
       "      <th>rspm</th>\n",
       "      <td>9.23</td>\n",
       "    </tr>\n",
       "    <tr>\n",
       "      <th>so2</th>\n",
       "      <td>7.95</td>\n",
       "    </tr>\n",
       "    <tr>\n",
       "      <th>location_monitoring_station</th>\n",
       "      <td>6.31</td>\n",
       "    </tr>\n",
       "    <tr>\n",
       "      <th>no2</th>\n",
       "      <td>3.73</td>\n",
       "    </tr>\n",
       "    <tr>\n",
       "      <th>type</th>\n",
       "      <td>1.24</td>\n",
       "    </tr>\n",
       "    <tr>\n",
       "      <th>sampling_date</th>\n",
       "      <td>0.00</td>\n",
       "    </tr>\n",
       "    <tr>\n",
       "      <th>state</th>\n",
       "      <td>0.00</td>\n",
       "    </tr>\n",
       "    <tr>\n",
       "      <th>location</th>\n",
       "      <td>0.00</td>\n",
       "    </tr>\n",
       "    <tr>\n",
       "      <th>date</th>\n",
       "      <td>0.00</td>\n",
       "    </tr>\n",
       "  </tbody>\n",
       "</table>\n",
       "</div>"
      ],
      "text/plain": [
       "                             Missing_Ratio\n",
       "pm2_5                                97.86\n",
       "spm                                  54.48\n",
       "agency                               34.30\n",
       "stn_code                             33.06\n",
       "rspm                                  9.23\n",
       "so2                                   7.95\n",
       "location_monitoring_station           6.31\n",
       "no2                                   3.73\n",
       "type                                  1.24\n",
       "sampling_date                         0.00\n",
       "state                                 0.00\n",
       "location                              0.00\n",
       "date                                  0.00"
      ]
     },
     "execution_count": 6,
     "metadata": {},
     "output_type": "execute_result"
    }
   ],
   "source": [
    "missing_ratio = np.round(Air_Quality.isna().sum()/len(Air_Quality)*100,2)\n",
    "missing_ratio = pd.DataFrame(missing_ratio , columns=['Missing_Ratio'])\n",
    "missing_ratio.sort_values('Missing_Ratio',ascending=False)"
   ]
  },
  {
   "cell_type": "markdown",
   "id": "51527bab",
   "metadata": {},
   "source": [
    "### Droping the columns\n",
    "\n",
    "from above ratios we can say that pm2_5\tand spm with 97.86 & 54.48 percentage of missing values.so we decided to drop those columns"
   ]
  },
  {
   "cell_type": "code",
   "execution_count": 7,
   "id": "40f50d3a",
   "metadata": {},
   "outputs": [],
   "source": [
    "Air_Quality.drop([\"pm2_5\",\"spm\"] , axis=1 , inplace=True)"
   ]
  },
  {
   "cell_type": "code",
   "execution_count": 8,
   "id": "a4f63065",
   "metadata": {},
   "outputs": [],
   "source": [
    "#Stn_code and Sampling_date(we have date column which is another representaion of theses values) also not an important columns so we drop it\n",
    "Air_Quality.drop([\"stn_code\",\"sampling_date\"] , axis=1 , inplace=True)"
   ]
  },
  {
   "cell_type": "code",
   "execution_count": 9,
   "id": "232a4ff2",
   "metadata": {},
   "outputs": [
    {
     "data": {
      "text/html": [
       "<div>\n",
       "<style scoped>\n",
       "    .dataframe tbody tr th:only-of-type {\n",
       "        vertical-align: middle;\n",
       "    }\n",
       "\n",
       "    .dataframe tbody tr th {\n",
       "        vertical-align: top;\n",
       "    }\n",
       "\n",
       "    .dataframe thead th {\n",
       "        text-align: right;\n",
       "    }\n",
       "</style>\n",
       "<table border=\"1\" class=\"dataframe\">\n",
       "  <thead>\n",
       "    <tr style=\"text-align: right;\">\n",
       "      <th></th>\n",
       "      <th>state</th>\n",
       "      <th>location</th>\n",
       "      <th>agency</th>\n",
       "      <th>type</th>\n",
       "      <th>so2</th>\n",
       "      <th>no2</th>\n",
       "      <th>rspm</th>\n",
       "      <th>location_monitoring_station</th>\n",
       "      <th>date</th>\n",
       "    </tr>\n",
       "  </thead>\n",
       "  <tbody>\n",
       "    <tr>\n",
       "      <th>0</th>\n",
       "      <td>Andhra Pradesh</td>\n",
       "      <td>Hyderabad</td>\n",
       "      <td>NaN</td>\n",
       "      <td>Residential, Rural and other Areas</td>\n",
       "      <td>4.8</td>\n",
       "      <td>17.4</td>\n",
       "      <td>NaN</td>\n",
       "      <td>NaN</td>\n",
       "      <td>1990-02-01</td>\n",
       "    </tr>\n",
       "    <tr>\n",
       "      <th>1</th>\n",
       "      <td>Andhra Pradesh</td>\n",
       "      <td>Hyderabad</td>\n",
       "      <td>NaN</td>\n",
       "      <td>Industrial Area</td>\n",
       "      <td>3.1</td>\n",
       "      <td>7.0</td>\n",
       "      <td>NaN</td>\n",
       "      <td>NaN</td>\n",
       "      <td>1990-02-01</td>\n",
       "    </tr>\n",
       "    <tr>\n",
       "      <th>2</th>\n",
       "      <td>Andhra Pradesh</td>\n",
       "      <td>Hyderabad</td>\n",
       "      <td>NaN</td>\n",
       "      <td>Residential, Rural and other Areas</td>\n",
       "      <td>6.2</td>\n",
       "      <td>28.5</td>\n",
       "      <td>NaN</td>\n",
       "      <td>NaN</td>\n",
       "      <td>1990-02-01</td>\n",
       "    </tr>\n",
       "    <tr>\n",
       "      <th>3</th>\n",
       "      <td>Andhra Pradesh</td>\n",
       "      <td>Hyderabad</td>\n",
       "      <td>NaN</td>\n",
       "      <td>Residential, Rural and other Areas</td>\n",
       "      <td>6.3</td>\n",
       "      <td>14.7</td>\n",
       "      <td>NaN</td>\n",
       "      <td>NaN</td>\n",
       "      <td>1990-03-01</td>\n",
       "    </tr>\n",
       "    <tr>\n",
       "      <th>4</th>\n",
       "      <td>Andhra Pradesh</td>\n",
       "      <td>Hyderabad</td>\n",
       "      <td>NaN</td>\n",
       "      <td>Industrial Area</td>\n",
       "      <td>4.7</td>\n",
       "      <td>7.5</td>\n",
       "      <td>NaN</td>\n",
       "      <td>NaN</td>\n",
       "      <td>1990-03-01</td>\n",
       "    </tr>\n",
       "  </tbody>\n",
       "</table>\n",
       "</div>"
      ],
      "text/plain": [
       "            state   location agency                                type  so2  \\\n",
       "0  Andhra Pradesh  Hyderabad    NaN  Residential, Rural and other Areas  4.8   \n",
       "1  Andhra Pradesh  Hyderabad    NaN                     Industrial Area  3.1   \n",
       "2  Andhra Pradesh  Hyderabad    NaN  Residential, Rural and other Areas  6.2   \n",
       "3  Andhra Pradesh  Hyderabad    NaN  Residential, Rural and other Areas  6.3   \n",
       "4  Andhra Pradesh  Hyderabad    NaN                     Industrial Area  4.7   \n",
       "\n",
       "    no2  rspm location_monitoring_station        date  \n",
       "0  17.4   NaN                         NaN  1990-02-01  \n",
       "1   7.0   NaN                         NaN  1990-02-01  \n",
       "2  28.5   NaN                         NaN  1990-02-01  \n",
       "3  14.7   NaN                         NaN  1990-03-01  \n",
       "4   7.5   NaN                         NaN  1990-03-01  "
      ]
     },
     "execution_count": 9,
     "metadata": {},
     "output_type": "execute_result"
    }
   ],
   "source": [
    "Air_Quality.head()"
   ]
  },
  {
   "cell_type": "markdown",
   "id": "036f5b4a",
   "metadata": {},
   "source": [
    "### 3.Missing value handling in Categorical Features"
   ]
  },
  {
   "cell_type": "code",
   "execution_count": 10,
   "id": "9ad9239a",
   "metadata": {},
   "outputs": [],
   "source": [
    "categorical_cols = list(Air_Quality.select_dtypes(include=['object']).columns)\n",
    "numerical_cols = list(Air_Quality.select_dtypes(exclude=['object']).columns)"
   ]
  },
  {
   "cell_type": "code",
   "execution_count": 11,
   "id": "ae87d4fc",
   "metadata": {},
   "outputs": [
    {
     "name": "stdout",
     "output_type": "stream",
     "text": [
      "['state', 'location', 'agency', 'type', 'location_monitoring_station', 'date']\n"
     ]
    }
   ],
   "source": [
    "print(categorical_cols)"
   ]
  },
  {
   "cell_type": "code",
   "execution_count": 12,
   "id": "86f03cc2",
   "metadata": {},
   "outputs": [
    {
     "name": "stdout",
     "output_type": "stream",
     "text": [
      "['so2', 'no2', 'rspm']\n"
     ]
    }
   ],
   "source": [
    "print(numerical_cols)"
   ]
  },
  {
   "cell_type": "code",
   "execution_count": 13,
   "id": "8ad9085c",
   "metadata": {},
   "outputs": [
    {
     "data": {
      "text/plain": [
       "state                               0\n",
       "location                            3\n",
       "agency                         149481\n",
       "type                             5393\n",
       "location_monitoring_station     27491\n",
       "date                                7\n",
       "dtype: int64"
      ]
     },
     "execution_count": 13,
     "metadata": {},
     "output_type": "execute_result"
    }
   ],
   "source": [
    "Air_Quality[categorical_cols].isnull().sum()"
   ]
  },
  {
   "cell_type": "code",
   "execution_count": 14,
   "id": "52ac82b8",
   "metadata": {},
   "outputs": [],
   "source": [
    "#Here location has 3 missing values and date has three missing values which is very small ,so we are going to drop this values\n",
    "Air_Quality=Air_Quality[Air_Quality['date'].isna()==False]\n",
    "Air_Quality=Air_Quality[Air_Quality['location'].isna()==False]"
   ]
  },
  {
   "cell_type": "code",
   "execution_count": 15,
   "id": "c53b3f4b",
   "metadata": {},
   "outputs": [],
   "source": [
    "#Type\n",
    "Air_Quality['type'] = Air_Quality['type'].fillna('NA')"
   ]
  },
  {
   "cell_type": "code",
   "execution_count": 16,
   "id": "600112af",
   "metadata": {},
   "outputs": [
    {
     "data": {
      "text/plain": [
       "Residential, Rural and other Areas    179013\n",
       "Industrial Area                        96089\n",
       "Residential and others                 86791\n",
       "Industrial Areas                       51747\n",
       "Sensitive Area                          8979\n",
       "Sensitive Areas                         5536\n",
       "NA                                      5390\n",
       "RIRUO                                   1304\n",
       "Sensitive                                495\n",
       "Industrial                               233\n",
       "Residential                              158\n",
       "Name: type, dtype: int64"
      ]
     },
     "execution_count": 16,
     "metadata": {},
     "output_type": "execute_result"
    }
   ],
   "source": [
    "Air_Quality['type'].value_counts()"
   ]
  },
  {
   "cell_type": "markdown",
   "id": "46e52b1d",
   "metadata": {},
   "source": [
    "#### Observation\n",
    "From the above information we can see that data belonging to the same Type of Area is given different names \n",
    "Example: Industrial Area denoted as Industrial Areas,Industrial,Industrial Area\n",
    "The Types of Area can be categorized together as : 'Residential,Rural and Others(RRO)' , 'Industrial' , 'Sensitive' & 'NA'"
   ]
  },
  {
   "cell_type": "code",
   "execution_count": 17,
   "id": "56ee5c01",
   "metadata": {},
   "outputs": [],
   "source": [
    "Residential_str = 'Residential|RIRUO'\n",
    "Industria_str = 'Industrial'\n",
    "Sensitive_str = 'Sensitive'"
   ]
  },
  {
   "cell_type": "code",
   "execution_count": 18,
   "id": "81ed8603",
   "metadata": {},
   "outputs": [],
   "source": [
    "rro_mask = Air_Quality['type'].str.contains(Residential_str , regex=True)\n",
    "ind_mask = Air_Quality['type'].str.contains(Industria_str )\n",
    "sen_mask = Air_Quality['type'].str.contains(Sensitive_str)"
   ]
  },
  {
   "cell_type": "code",
   "execution_count": 19,
   "id": "e8321ac0",
   "metadata": {},
   "outputs": [],
   "source": [
    "Air_Quality['type'][rro_mask] = 'RRO'\n",
    "Air_Quality['type'][ind_mask] = 'Industrial'\n",
    "Air_Quality['type'][sen_mask] = 'Sensitive'\n"
   ]
  },
  {
   "cell_type": "code",
   "execution_count": 20,
   "id": "3fdea948",
   "metadata": {},
   "outputs": [
    {
     "data": {
      "text/plain": [
       "RRO           267266\n",
       "Industrial    148069\n",
       "Sensitive      15010\n",
       "NA              5390\n",
       "Name: type, dtype: int64"
      ]
     },
     "execution_count": 20,
     "metadata": {},
     "output_type": "execute_result"
    }
   ],
   "source": [
    "Air_Quality['type'].value_counts()"
   ]
  },
  {
   "cell_type": "code",
   "execution_count": 21,
   "id": "2922ad47",
   "metadata": {},
   "outputs": [],
   "source": [
    "Air_Quality['agency'].fillna('NA',inplace=True)\n",
    "Air_Quality['location_monitoring_station'].fillna('NA',inplace=True)"
   ]
  },
  {
   "cell_type": "code",
   "execution_count": 22,
   "id": "16e9c8fe",
   "metadata": {},
   "outputs": [
    {
     "data": {
      "text/plain": [
       "state                          0\n",
       "location                       0\n",
       "agency                         0\n",
       "type                           0\n",
       "location_monitoring_station    0\n",
       "date                           0\n",
       "dtype: int64"
      ]
     },
     "execution_count": 22,
     "metadata": {},
     "output_type": "execute_result"
    }
   ],
   "source": [
    "Air_Quality[categorical_cols].isnull().sum()"
   ]
  },
  {
   "cell_type": "markdown",
   "id": "5f2b20a2",
   "metadata": {},
   "source": [
    "#### Observation\n",
    "Now we done with Categorical features it sis time for Numerical Features"
   ]
  },
  {
   "cell_type": "markdown",
   "id": "bdec6fb9",
   "metadata": {},
   "source": [
    "### 4.Missing value Handling in Numerical features"
   ]
  },
  {
   "cell_type": "markdown",
   "id": "4a2c3640",
   "metadata": {},
   "source": [
    "   While we handling Numrical values we can use so many methods , Some of the are\n",
    "    (1)Mean,Mode,Median imputation\n",
    "    (2)Arbitary Value imputation"
   ]
  },
  {
   "cell_type": "code",
   "execution_count": 23,
   "id": "00d2ef05",
   "metadata": {},
   "outputs": [
    {
     "data": {
      "text/plain": [
       "['so2', 'no2', 'rspm']"
      ]
     },
     "execution_count": 23,
     "metadata": {},
     "output_type": "execute_result"
    }
   ],
   "source": [
    "numerical_cols"
   ]
  },
  {
   "cell_type": "code",
   "execution_count": 24,
   "id": "e0d7bb4a",
   "metadata": {},
   "outputs": [
    {
     "data": {
      "text/plain": [
       "count    401092.000000\n",
       "mean         10.829428\n",
       "std          11.177239\n",
       "min           0.000000\n",
       "25%           5.000000\n",
       "50%           8.000000\n",
       "75%          13.700000\n",
       "max         909.000000\n",
       "Name: so2, dtype: float64"
      ]
     },
     "execution_count": 24,
     "metadata": {},
     "output_type": "execute_result"
    }
   ],
   "source": [
    "Air_Quality['so2'].describe()"
   ]
  },
  {
   "cell_type": "code",
   "execution_count": 25,
   "id": "df0ab4e3",
   "metadata": {},
   "outputs": [
    {
     "name": "stdout",
     "output_type": "stream",
     "text": [
      "Distribution of SO2\n"
     ]
    },
    {
     "data": {
      "image/png": "[encoded data removed]",
      "text/plain": [
       "<Figure size 936x288 with 2 Axes>"
      ]
     },
     "metadata": {
      "needs_background": "light"
     },
     "output_type": "display_data"
    },
    {
     "name": "stdout",
     "output_type": "stream",
     "text": [
      "Skewness =  8.521026971966139\n"
     ]
    }
   ],
   "source": [
    "print('Distribution of SO2')\n",
    "fig,ax=plt.subplots(1,2,figsize=(13,4))\n",
    "sns.distplot(Air_Quality['so2'].dropna() , ax=ax[0])\n",
    "sns.boxplot(Air_Quality['so2'].dropna() , ax=ax[1])\n",
    "\n",
    "so2_skew = Air_Quality['so2'].skew()\n",
    "plt.show()\n",
    "print('Skewness = ',so2_skew)"
   ]
  },
  {
   "cell_type": "markdown",
   "id": "3c7b59d5",
   "metadata": {},
   "source": [
    "### Observation\n",
    "The above distribution plot shows that 'so2' values are significantly Right Skewed(Positively Skewed)\n",
    "and the box plot shows that there are significant amount of outliers\n",
    "\n",
    "### Solution\n",
    "\n",
    "Since we saw that 75% of the values lie under 13.7\n",
    "we can calculate the upper limit using IQR(Inter Quartile Range) and\n",
    "consider values outside upper limit as outliers and remove them\n",
    "\n",
    "\n",
    "### IQR\n",
    "\n",
    "The IQR describes the middle 50% of values when ordered from lowest to highest. To find the interquartile range (IQR), ​first find the median (middle value) of the lower and upper half of the data. These values are quartile 1 (Q1) and quartile 3 (Q3). The IQR is the difference between Q3 and Q1.\n",
    "\n"
   ]
  },
  {
   "cell_type": "code",
   "execution_count": 41,
   "id": "66fd7f05",
   "metadata": {},
   "outputs": [
    {
     "name": "stdout",
     "output_type": "stream",
     "text": [
      "Distribution of SO2\n"
     ]
    },
    {
     "data": {
      "image/png": "[encoded data removed]",
      "text/plain": [
       "<Figure size 432x288 with 1 Axes>"
      ]
     },
     "metadata": {
      "needs_background": "light"
     },
     "output_type": "display_data"
    },
    {
     "name": "stdout",
     "output_type": "stream",
     "text": [
      "Skewness =  0.8502598289730563\n"
     ]
    }
   ],
   "source": [
    "Q1=Air_Quality['so2'].quantile(0.25)\n",
    "Q3=Air_Quality['so2'].quantile(0.75)\n",
    "IQR=Q3-Q1\n",
    "Air_Quality=Air_Quality[~((Air_Quality['so2']<(Q1-1.5*IQR))|(Air_Quality['so2']>(Q3+1.5*IQR)))]\n",
    "\n",
    "print('Distribution of SO2')\n",
    "sns.distplot(Air_Quality['so2'].dropna())\n",
    "so2_skew = Air_Quality['so2'].skew()\n",
    "plt.show()\n",
    "print('Skewness = ',so2_skew)"
   ]
  },
  {
   "cell_type": "markdown",
   "id": "4231dace",
   "metadata": {},
   "source": [
    "### Observation\n",
    "The above distribution plot shows the significant Positive Skewness has been reduced to acceptable level\n"
   ]
  },
  {
   "cell_type": "code",
   "execution_count": 42,
   "id": "9a3ab6a7",
   "metadata": {},
   "outputs": [
    {
     "name": "stdout",
     "output_type": "stream",
     "text": [
      "Distribution of SO2\n"
     ]
    },
    {
     "data": {
      "image/png": "[encoded data removed]",
      "text/plain": [
       "<Figure size 432x288 with 1 Axes>"
      ]
     },
     "metadata": {
      "needs_background": "light"
     },
     "output_type": "display_data"
    }
   ],
   "source": [
    "print('Distribution of SO2')\n",
    "sns.kdeplot(Air_Quality['so2'].dropna())\n",
    "plt.axvline(Air_Quality['so2'].mean(), color='r')\n",
    "plt.axvline(Air_Quality['so2'].median(), color='g')\n",
    "\n",
    "plt.legend(['So2','Mean','Median'])\n",
    "plt.show()"
   ]
  },
  {
   "cell_type": "code",
   "execution_count": 43,
   "id": "e7de5ba2",
   "metadata": {},
   "outputs": [],
   "source": [
    "df1=Air_Quality.copy()\n",
    "df2=Air_Quality.copy()"
   ]
  },
  {
   "cell_type": "code",
   "execution_count": 44,
   "id": "1db5eccb",
   "metadata": {},
   "outputs": [],
   "source": [
    "df1['so2'] = df1['so2'].fillna(df1['so2'].mean())\n",
    "df2['so2'] = df2['so2'].fillna(method='ffill')\n"
   ]
  },
  {
   "cell_type": "code",
   "execution_count": 45,
   "id": "ce3996f5",
   "metadata": {},
   "outputs": [
    {
     "name": "stdout",
     "output_type": "stream",
     "text": [
      "Distribution of SO2\n"
     ]
    },
    {
     "data": {
      "image/png": "[encoded data removed]",
      "text/plain": [
       "<Figure size 936x288 with 2 Axes>"
      ]
     },
     "metadata": {
      "needs_background": "light"
     },
     "output_type": "display_data"
    }
   ],
   "source": [
    "print('Distribution of SO2')\n",
    "\n",
    "fig,ax=plt.subplots(1,2,figsize=(13,4))\n",
    "\n",
    "sns.kdeplot(df1['so2'] , ax=ax[0])\n",
    "ax[0].axvline(df1['so2'].mean(), color='r' )\n",
    "ax[0].axvline(df1['so2'].median(), color='g')\n",
    "ax[0].set_title('Mean Imputation')  \n",
    "ax[0].legend(['So2','Mean','Median'])\n",
    "\n",
    "sns.kdeplot(df2['so2'] , ax=ax[1])\n",
    "ax[1].axvline(df2['so2'].mean(), color='r')\n",
    "ax[1].axvline(df2['so2'].median(), color='g')\n",
    "ax[1].set_title('Forward Fill')\n",
    "ax[1].legend(['So2','Mean','Median'])\n",
    "                    \n",
    "                    \n",
    "plt.show()"
   ]
  },
  {
   "cell_type": "code",
   "execution_count": 62,
   "id": "6bf1862d",
   "metadata": {},
   "outputs": [],
   "source": [
    "Air_Quality['so2'] = Air_Quality['so2'].fillna(method='ffill')"
   ]
  },
  {
   "cell_type": "code",
   "execution_count": 46,
   "id": "4ea9eb58",
   "metadata": {},
   "outputs": [],
   "source": [
    "Q1=Air_Quality['no2'].quantile(0.25)\n",
    "Q3=Air_Quality['no2'].quantile(0.75)\n",
    "IQR=Q3-Q1\n",
    "Air_Quality=Air_Quality[~((Air_Quality['no2']<(Q1-1.5*IQR))|(Air_Quality['no2']>(Q3+1.5*IQR)))]"
   ]
  },
  {
   "cell_type": "code",
   "execution_count": 47,
   "id": "48a75879",
   "metadata": {},
   "outputs": [
    {
     "name": "stdout",
     "output_type": "stream",
     "text": [
      "Distribution of NO2\n"
     ]
    },
    {
     "data": {
      "image/png": "[encoded data removed]",
      "text/plain": [
       "<Figure size 936x288 with 2 Axes>"
      ]
     },
     "metadata": {
      "needs_background": "light"
     },
     "output_type": "display_data"
    },
    {
     "name": "stdout",
     "output_type": "stream",
     "text": [
      "Skewness =  0.6123781091260613\n"
     ]
    }
   ],
   "source": [
    "print('Distribution of NO2')\n",
    "fig,ax=plt.subplots(1,2,figsize=(13,4))\n",
    "sns.distplot(Air_Quality['no2'].dropna() , ax=ax[0])\n",
    "sns.boxplot(Air_Quality['no2'].dropna() , ax=ax[1])\n",
    "no2_skew = Air_Quality['no2'].skew()\n",
    "plt.show()\n",
    "print('Skewness = ',no2_skew)"
   ]
  },
  {
   "cell_type": "code",
   "execution_count": 48,
   "id": "0bc124db",
   "metadata": {},
   "outputs": [
    {
     "name": "stdout",
     "output_type": "stream",
     "text": [
      "Distribution of NO2\n"
     ]
    },
    {
     "data": {
      "image/png": "[encoded data removed]",
      "text/plain": [
       "<Figure size 432x288 with 1 Axes>"
      ]
     },
     "metadata": {
      "needs_background": "light"
     },
     "output_type": "display_data"
    }
   ],
   "source": [
    "print('Distribution of NO2')\n",
    "sns.kdeplot(Air_Quality['no2'])\n",
    "plt.axvline(Air_Quality['no2'].mean(), color='r')\n",
    "plt.axvline(Air_Quality['no2'].median(), color='g')\n",
    "plt.legend(['No2','Mean','Median'])\n",
    "plt.show()"
   ]
  },
  {
   "cell_type": "code",
   "execution_count": 49,
   "id": "04ff79f4",
   "metadata": {},
   "outputs": [],
   "source": [
    "df1 =Air_Quality.copy()\n",
    "df2 =Air_Quality.copy()"
   ]
  },
  {
   "cell_type": "code",
   "execution_count": 50,
   "id": "0546bdc4",
   "metadata": {},
   "outputs": [],
   "source": [
    "#Mean Imputation\n",
    "df1['no2'] = df1['no2'].fillna(df1['no2'].mean())\n",
    "#Forward Fill\n",
    "df2['no2'] = df2['no2'].fillna(method='ffill')"
   ]
  },
  {
   "cell_type": "code",
   "execution_count": 51,
   "id": "73bfadc4",
   "metadata": {},
   "outputs": [
    {
     "name": "stdout",
     "output_type": "stream",
     "text": [
      "Distribution of NO2\n"
     ]
    },
    {
     "data": {
      "image/png": "[encoded data removed]",
      "text/plain": [
       "<Figure size 936x288 with 2 Axes>"
      ]
     },
     "metadata": {
      "needs_background": "light"
     },
     "output_type": "display_data"
    }
   ],
   "source": [
    "print('Distribution of NO2')\n",
    "\n",
    "fig,ax=plt.subplots(1,2,figsize=(13,4))\n",
    "\n",
    "sns.kdeplot(df1['no2'] , ax=ax[0])\n",
    "ax[0].axvline(df1['no2'].mean(), color='r' )\n",
    "ax[0].axvline(df1['no2'].median(), color='g')\n",
    "ax[0].set_title('Mean Imputation')    \n",
    "ax[0].legend(['No2','Mean','Median'])\n",
    "\n",
    "sns.kdeplot(df2['no2'] , ax=ax[1])\n",
    "ax[1].axvline(df2['no2'].mean(), color='r')\n",
    "ax[1].axvline(df2['no2'].median(), color='g')\n",
    "ax[1].set_title('Forward Fill')\n",
    "ax[1].legend(['no2','Mean','Median'])\n",
    "                    \n",
    "                    \n",
    "plt.show()"
   ]
  },
  {
   "cell_type": "markdown",
   "id": "b768fa4c",
   "metadata": {},
   "source": [
    "### Observation\n",
    "The above plots show that filling the missing values with Forward Fill dosen't cause any variation on the data, so we can choose Forward Fill"
   ]
  },
  {
   "cell_type": "code",
   "execution_count": 52,
   "id": "3f825d15",
   "metadata": {},
   "outputs": [],
   "source": [
    "Air_Quality['no2'] =Air_Quality['no2'].fillna(method='ffill')"
   ]
  },
  {
   "cell_type": "code",
   "execution_count": 53,
   "id": "b1d1fa05",
   "metadata": {},
   "outputs": [
    {
     "data": {
      "text/plain": [
       "count    375760.000000\n",
       "mean         97.158580\n",
       "std          56.433092\n",
       "min           0.000000\n",
       "25%          54.000000\n",
       "50%          84.000000\n",
       "75%         130.000000\n",
       "max         262.333333\n",
       "Name: rspm, dtype: float64"
      ]
     },
     "execution_count": 53,
     "metadata": {},
     "output_type": "execute_result"
    }
   ],
   "source": [
    "Air_Quality['rspm'].describe()"
   ]
  },
  {
   "cell_type": "code",
   "execution_count": 54,
   "id": "1d56cb89",
   "metadata": {},
   "outputs": [
    {
     "name": "stdout",
     "output_type": "stream",
     "text": [
      "Distribution of RSPM\n"
     ]
    },
    {
     "data": {
      "image/png": "[encoded data removed]",
      "text/plain": [
       "<Figure size 936x288 with 2 Axes>"
      ]
     },
     "metadata": {
      "needs_background": "light"
     },
     "output_type": "display_data"
    },
    {
     "name": "stdout",
     "output_type": "stream",
     "text": [
      "Skewness =  0.8758052216525788\n"
     ]
    }
   ],
   "source": [
    "print('Distribution of RSPM')\n",
    "fig,ax=plt.subplots(1,2,figsize=(13,4))\n",
    "sns.distplot(Air_Quality['rspm'].dropna() , ax=ax[0])\n",
    "sns.boxplot(Air_Quality['rspm'].dropna() , ax=ax[1])\n",
    "plt.show()\n",
    "print('Skewness = ',Air_Quality['rspm'].skew())"
   ]
  },
  {
   "cell_type": "code",
   "execution_count": 55,
   "id": "81082d82",
   "metadata": {},
   "outputs": [
    {
     "name": "stdout",
     "output_type": "stream",
     "text": [
      "Distribution of RSPM\n"
     ]
    },
    {
     "data": {
      "image/png": "[encoded data removed]",
      "text/plain": [
       "<Figure size 936x288 with 2 Axes>"
      ]
     },
     "metadata": {
      "needs_background": "light"
     },
     "output_type": "display_data"
    },
    {
     "name": "stdout",
     "output_type": "stream",
     "text": [
      "Skewness =  0.7912415779242497\n"
     ]
    }
   ],
   "source": [
    "Q1=Air_Quality['rspm'].quantile(0.25)\n",
    "Q3=Air_Quality['rspm'].quantile(0.75)\n",
    "IQR=Q3-Q1\n",
    "Air_Quality=Air_Quality[~((Air_Quality['rspm']<(Q1-1.5*IQR))|(Air_Quality['rspm']>(Q3+1.5*IQR)))]\n",
    "\n",
    "print('Distribution of RSPM')\n",
    "fig,ax=plt.subplots(1,2,figsize=(13,4))\n",
    "sns.distplot(Air_Quality['rspm'].dropna() , ax=ax[0])\n",
    "sns.boxplot(Air_Quality['rspm'].dropna() , ax=ax[1])\n",
    "plt.show()\n",
    "print('Skewness = ',Air_Quality['rspm'].skew())"
   ]
  },
  {
   "cell_type": "code",
   "execution_count": 56,
   "id": "c01d5792",
   "metadata": {},
   "outputs": [],
   "source": [
    "df1 = Air_Quality.copy()\n",
    "df2 = Air_Quality.copy()"
   ]
  },
  {
   "cell_type": "code",
   "execution_count": 57,
   "id": "ecf8fea1",
   "metadata": {},
   "outputs": [],
   "source": [
    "#Mean Imputation\n",
    "df1['rspm'] = df1['rspm'].fillna(df1['rspm'].mean())\n",
    "#Forward Fill\n",
    "df2['rspm'] = df2['rspm'].fillna(method='ffill')"
   ]
  },
  {
   "cell_type": "code",
   "execution_count": 58,
   "id": "d502969a",
   "metadata": {},
   "outputs": [
    {
     "name": "stdout",
     "output_type": "stream",
     "text": [
      "Distribution of RSPM\n"
     ]
    },
    {
     "data": {
      "image/png": "[encoded data removed]",
      "text/plain": [
       "<Figure size 936x288 with 2 Axes>"
      ]
     },
     "metadata": {
      "needs_background": "light"
     },
     "output_type": "display_data"
    }
   ],
   "source": [
    "print('Distribution of RSPM')\n",
    "\n",
    "fig,ax=plt.subplots(1,2,figsize=(13,4))\n",
    "\n",
    "sns.kdeplot(df1['rspm'] , ax=ax[0])\n",
    "ax[0].axvline(df1['rspm'].mean(), color='r' )\n",
    "ax[0].axvline(df1['rspm'].median(), color='g')\n",
    "ax[0].set_title('Mean Imputation')    \n",
    "ax[0].legend(['rspm','Mean','Median'])\n",
    "\n",
    "sns.kdeplot(df2['rspm'] , ax=ax[1])\n",
    "ax[1].axvline(df2['rspm'].mean(), color='r')\n",
    "ax[1].axvline(df2['rspm'].median(), color='g')\n",
    "ax[1].set_title('Forward Fill')\n",
    "ax[1].legend(['rspm','Mean','Median'])\n",
    "                    \n",
    "                    \n",
    "plt.show()"
   ]
  },
  {
   "cell_type": "markdown",
   "id": "b055a875",
   "metadata": {},
   "source": [
    "### Observation\n",
    "The above plots show that filling the missing values with Forward Fill dosen't cause any variation on the data, so we can choose Forward Fill"
   ]
  },
  {
   "cell_type": "code",
   "execution_count": 67,
   "id": "cf632dea",
   "metadata": {},
   "outputs": [],
   "source": [
    "Air_Quality['rspm'] = Air_Quality['rspm'].fillna(method='bfill')\n"
   ]
  },
  {
   "cell_type": "code",
   "execution_count": 68,
   "id": "e1c0aa78",
   "metadata": {},
   "outputs": [
    {
     "data": {
      "text/plain": [
       "state                          0\n",
       "location                       0\n",
       "agency                         0\n",
       "type                           0\n",
       "so2                            0\n",
       "no2                            0\n",
       "rspm                           0\n",
       "location_monitoring_station    0\n",
       "date                           0\n",
       "dtype: int64"
      ]
     },
     "execution_count": 68,
     "metadata": {},
     "output_type": "execute_result"
    }
   ],
   "source": [
    "Air_Quality.isnull().sum()"
   ]
  },
  {
   "cell_type": "code",
   "execution_count": 70,
   "id": "3e314f20",
   "metadata": {},
   "outputs": [
    {
     "data": {
      "text/html": [
       "<div>\n",
       "<style scoped>\n",
       "    .dataframe tbody tr th:only-of-type {\n",
       "        vertical-align: middle;\n",
       "    }\n",
       "\n",
       "    .dataframe tbody tr th {\n",
       "        vertical-align: top;\n",
       "    }\n",
       "\n",
       "    .dataframe thead th {\n",
       "        text-align: right;\n",
       "    }\n",
       "</style>\n",
       "<table border=\"1\" class=\"dataframe\">\n",
       "  <thead>\n",
       "    <tr style=\"text-align: right;\">\n",
       "      <th></th>\n",
       "      <th>state</th>\n",
       "      <th>location</th>\n",
       "      <th>agency</th>\n",
       "      <th>type</th>\n",
       "      <th>so2</th>\n",
       "      <th>no2</th>\n",
       "      <th>rspm</th>\n",
       "      <th>location_monitoring_station</th>\n",
       "      <th>date</th>\n",
       "    </tr>\n",
       "  </thead>\n",
       "  <tbody>\n",
       "    <tr>\n",
       "      <th>435734</th>\n",
       "      <td>West Bengal</td>\n",
       "      <td>ULUBERIA</td>\n",
       "      <td>West Bengal State Pollution Control Board</td>\n",
       "      <td>RRO</td>\n",
       "      <td>20.0</td>\n",
       "      <td>44.0</td>\n",
       "      <td>148.0</td>\n",
       "      <td>Inside Rampal Industries,ULUBERIA</td>\n",
       "      <td>2015-12-15</td>\n",
       "    </tr>\n",
       "    <tr>\n",
       "      <th>435735</th>\n",
       "      <td>West Bengal</td>\n",
       "      <td>ULUBERIA</td>\n",
       "      <td>West Bengal State Pollution Control Board</td>\n",
       "      <td>RRO</td>\n",
       "      <td>17.0</td>\n",
       "      <td>44.0</td>\n",
       "      <td>131.0</td>\n",
       "      <td>Inside Rampal Industries,ULUBERIA</td>\n",
       "      <td>2015-12-18</td>\n",
       "    </tr>\n",
       "    <tr>\n",
       "      <th>435736</th>\n",
       "      <td>West Bengal</td>\n",
       "      <td>ULUBERIA</td>\n",
       "      <td>West Bengal State Pollution Control Board</td>\n",
       "      <td>RRO</td>\n",
       "      <td>18.0</td>\n",
       "      <td>45.0</td>\n",
       "      <td>140.0</td>\n",
       "      <td>Inside Rampal Industries,ULUBERIA</td>\n",
       "      <td>2015-12-21</td>\n",
       "    </tr>\n",
       "    <tr>\n",
       "      <th>435737</th>\n",
       "      <td>West Bengal</td>\n",
       "      <td>ULUBERIA</td>\n",
       "      <td>West Bengal State Pollution Control Board</td>\n",
       "      <td>RRO</td>\n",
       "      <td>22.0</td>\n",
       "      <td>50.0</td>\n",
       "      <td>143.0</td>\n",
       "      <td>Inside Rampal Industries,ULUBERIA</td>\n",
       "      <td>2015-12-24</td>\n",
       "    </tr>\n",
       "    <tr>\n",
       "      <th>435738</th>\n",
       "      <td>West Bengal</td>\n",
       "      <td>ULUBERIA</td>\n",
       "      <td>West Bengal State Pollution Control Board</td>\n",
       "      <td>RRO</td>\n",
       "      <td>20.0</td>\n",
       "      <td>46.0</td>\n",
       "      <td>171.0</td>\n",
       "      <td>Inside Rampal Industries,ULUBERIA</td>\n",
       "      <td>2015-12-29</td>\n",
       "    </tr>\n",
       "  </tbody>\n",
       "</table>\n",
       "</div>"
      ],
      "text/plain": [
       "              state  location                                     agency type  \\\n",
       "435734  West Bengal  ULUBERIA  West Bengal State Pollution Control Board  RRO   \n",
       "435735  West Bengal  ULUBERIA  West Bengal State Pollution Control Board  RRO   \n",
       "435736  West Bengal  ULUBERIA  West Bengal State Pollution Control Board  RRO   \n",
       "435737  West Bengal  ULUBERIA  West Bengal State Pollution Control Board  RRO   \n",
       "435738  West Bengal  ULUBERIA  West Bengal State Pollution Control Board  RRO   \n",
       "\n",
       "         so2   no2   rspm        location_monitoring_station        date  \n",
       "435734  20.0  44.0  148.0  Inside Rampal Industries,ULUBERIA  2015-12-15  \n",
       "435735  17.0  44.0  131.0  Inside Rampal Industries,ULUBERIA  2015-12-18  \n",
       "435736  18.0  45.0  140.0  Inside Rampal Industries,ULUBERIA  2015-12-21  \n",
       "435737  22.0  50.0  143.0  Inside Rampal Industries,ULUBERIA  2015-12-24  \n",
       "435738  20.0  46.0  171.0  Inside Rampal Industries,ULUBERIA  2015-12-29  "
      ]
     },
     "execution_count": 70,
     "metadata": {},
     "output_type": "execute_result"
    }
   ],
   "source": [
    "Air_Quality.tail()"
   ]
  },
  {
   "cell_type": "code",
   "execution_count": null,
   "id": "6bf63464",
   "metadata": {},
   "outputs": [],
   "source": []
  }
 ],
 "metadata": {
  "kernelspec": {
   "display_name": "Python 3 (ipykernel)",
   "language": "python",
   "name": "python3"
  },
  "language_info": {
   "codemirror_mode": {
    "name": "ipython",
    "version": 3
   },
   "file_extension": ".py",
   "mimetype": "text/x-python",
   "name": "python",
   "nbconvert_exporter": "python",
   "pygments_lexer": "ipython3",
   "version": "3.10.2"
  }
 },
 "nbformat": 4,
 "nbformat_minor": 5
}
